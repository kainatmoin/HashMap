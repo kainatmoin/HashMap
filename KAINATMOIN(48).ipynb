{
  "nbformat": 4,
  "nbformat_minor": 0,
  "metadata": {
    "colab": {
      "provenance": []
    },
    "kernelspec": {
      "name": "python3",
      "display_name": "Python 3"
    },
    "language_info": {
      "name": "python"
    }
  },
  "cells": [
    {
      "cell_type": "markdown",
      "source": [
        "**Open Ended lab 2**\n",
        "\n",
        "kainat Moin\n",
        "Roll: 23-AI-48\n",
        "SECTION:A2\n"
      ],
      "metadata": {
        "id": "IUqErH0sfKcV"
      }
    },
    {
      "cell_type": "code",
      "source": [
        "#create function\\\n",
        "def Patternchecks(pattern, s):\n",
        "    words = []\n",
        "    current_word = \"\"\n",
        "\n",
        "\n",
        "    for char in s:\n",
        "        if char == ' ':  # Check for space to find word boundaries\n",
        "            if current_word:\n",
        "                words.append(current_word)\n",
        "                current_word = \"\"\n",
        "        else:\n",
        "            current_word += char\n",
        "\n",
        "    # Add the last word if any\n",
        "    if current_word:\n",
        "        words.append(current_word)\n",
        "\n",
        "    # Check if the number of characters in the pattern matches the number of words\n",
        "    if len(pattern) != len(words):\n",
        "        return False\n",
        "\n",
        "    # Create dictionaries for mappings\n",
        "    char_to_word = {}\n",
        "    word_to_char = {}\n",
        "\n",
        "    # Loop through each character in the pattern and words\n",
        "    for i in range(len(pattern)):\n",
        "        char = pattern[i]\n",
        "        word = words[i]\n",
        "\n",
        "        # Check if the character is already mapped to a word\n",
        "        if char in char_to_word:\n",
        "            if char_to_word[char] != word:\n",
        "                return False\n",
        "        else:\n",
        "            char_to_word[char] = word  # Create a new mapping\n",
        "\n",
        "        # Check if the word is already mapped to a character\n",
        "        if word in word_to_char:\n",
        "            if word_to_char[word] != char:\n",
        "                return False\n",
        "        else:\n",
        "            word_to_char[word] = char  # Create a new mapping\n",
        "\n",
        "    return True  # If all mappings are valid, return True\n",
        " # checks example\n",
        "Examp1 = Patternchecks(\"cddc\", \"dog cat cat dog\")\n",
        "Examp2 = Patternchecks(\"abba\", \"dog cat cat fish\")\n",
        "Examp3 = Patternchecks(\"aaaa\", \"dog cat cat dog\")\n",
        "Examp4 = Patternchecks(\"bbbb\", \"fat fat fat fat\")\n",
        "\n",
        "print(Examp1)\n",
        "print(Examp2)\n",
        "print(Examp3)\n",
        "print(Examp4)"
      ],
      "metadata": {
        "colab": {
          "base_uri": "https://localhost:8080/"
        },
        "id": "3Wz2q4AwfmGP",
        "outputId": "c25aa487-7487-416f-eca6-3fdb5a6291e7"
      },
      "execution_count": 5,
      "outputs": [
        {
          "output_type": "stream",
          "name": "stdout",
          "text": [
            "True\n",
            "False\n",
            "False\n",
            "True\n"
          ]
        }
      ]
    }
  ]
}